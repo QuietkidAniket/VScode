{
 "cells": [
  {
   "cell_type": "code",
   "execution_count": 19,
   "metadata": {},
   "outputs": [
    {
     "data": {
      "text/plain": [
       "[9, 7, 5, 3, 560, 421, 420]"
      ]
     },
     "execution_count": 19,
     "metadata": {},
     "output_type": "execute_result"
    }
   ],
   "source": [
    "# Largest number that can be formed from the list of strings\n",
    "n = list(eval(input()))\n",
    "n\n",
    "l = list()\n",
    "digitmore = sorted([int(x) for x in n if len(str(x)) > 1], reverse=True)\n",
    "digit1 = sorted([int(x) for x in n if len(str(x)) == 1], reverse=True)\n",
    "index = 0;\n",
    "for x in digit1:\n",
    "    if index != len(digitmore) and x < int(str(digitmore[index])[:1]):\n",
    "        if digitmore[index] > 10 * x:\n",
    "            l.append(x)\n",
    "            continue\n",
    "        l.append(digitmore[index])\n",
    "        index += 1\n",
    "    else:\n",
    "        l.append(x)\n",
    "if index != len(digitmore):\n",
    "    l.extend(digitmore[index:])\n",
    "l"
   ]
  },
  {
   "cell_type": "code",
   "execution_count": null,
   "metadata": {},
   "outputs": [],
   "source": []
  }
 ],
 "metadata": {
  "kernelspec": {
   "display_name": "Python 3",
   "language": "python",
   "name": "python3"
  },
  "language_info": {
   "codemirror_mode": {
    "name": "ipython",
    "version": 3
   },
   "file_extension": ".py",
   "mimetype": "text/x-python",
   "name": "python",
   "nbconvert_exporter": "python",
   "pygments_lexer": "ipython3",
   "version": "3.11.3"
  }
 },
 "nbformat": 4,
 "nbformat_minor": 2
}
