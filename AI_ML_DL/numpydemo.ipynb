{
 "cells": [
  {
   "cell_type": "markdown",
   "id": "ab402fb4-b16c-4349-b1d9-4ab611956dc7",
   "metadata": {
    "tags": []
   },
   "source": [
    "# Load in NumPy (Remember to pip install numpy first )"
   ]
  },
  {
   "cell_type": "code",
   "execution_count": 1,
   "id": "72d3b3e9-d522-4311-a360-3fc4fb752438",
   "metadata": {},
   "outputs": [],
   "source": [
    "import numpy as np"
   ]
  },
  {
   "cell_type": "markdown",
   "id": "24dd5bd2-3a3f-40fe-962a-95cecb7072af",
   "metadata": {
    "tags": []
   },
   "source": [
    "# The basics"
   ]
  },
  {
   "cell_type": "code",
   "execution_count": 11,
   "id": "de1437ef-e5a1-4090-9074-e04f1bc23e82",
   "metadata": {},
   "outputs": [
    {
     "name": "stdout",
     "output_type": "stream",
     "text": [
      "[1 2 3]\n"
     ]
    }
   ],
   "source": [
    "a = np.array([1,2,3], dtype='int16') # specify the datatype for increasing the efficiency\n",
    "print(a)"
   ]
  },
  {
   "cell_type": "code",
   "execution_count": 12,
   "id": "8a4c6800-20ef-48f5-afb8-017f7e0d43fd",
   "metadata": {},
   "outputs": [
    {
     "name": "stdout",
     "output_type": "stream",
     "text": [
      "[[9. 8. 7.]\n",
      " [6. 5. 4.]]\n"
     ]
    }
   ],
   "source": [
    "b = np.array([[9.0, 8.0, 7.0], [6.0, 5.0, 4.0]])\n",
    "print(b)"
   ]
  },
  {
   "cell_type": "code",
   "execution_count": 5,
   "id": "9ec628f9-5227-410a-82cb-dce7798f26f9",
   "metadata": {},
   "outputs": [
    {
     "name": "stdout",
     "output_type": "stream",
     "text": [
      " dimensions of a :  1\n",
      " dimensions of b :  2\n"
     ]
    }
   ],
   "source": [
    "# Get the dimensions of your numpy array\n",
    "print(\" dimensions of a : \", a.ndim) # no of dimensions\n",
    "print(\" dimensions of b : \", b.ndim)"
   ]
  },
  {
   "cell_type": "code",
   "execution_count": 6,
   "id": "400f186a-e705-4d44-a5d5-811adf2a84a2",
   "metadata": {},
   "outputs": [
    {
     "name": "stdout",
     "output_type": "stream",
     "text": [
      " shape of a :  (3,)\n",
      " shape of b :  (2, 3)\n"
     ]
    }
   ],
   "source": [
    "# get the shape\n",
    "print(\" shape of a : \", a.shape)\n",
    "print(\" shape of b : \", b.shape)"
   ]
  },
  {
   "cell_type": "code",
   "execution_count": 7,
   "id": "c2f62b5a-80c3-4f65-971c-7d71149a5569",
   "metadata": {},
   "outputs": [
    {
     "name": "stdout",
     "output_type": "stream",
     "text": [
      " data type of a :  int16\n",
      " data type of b :  float64\n"
     ]
    }
   ],
   "source": [
    "# get the data type\n",
    "print(\" data type of a : \", a.dtype)\n",
    "print(\" data type of b : \", b.dtype)\n"
   ]
  },
  {
   "cell_type": "code",
   "execution_count": 8,
   "id": "3077a53d-f896-4333-87d2-44567c33d250",
   "metadata": {},
   "outputs": [
    {
     "name": "stdout",
     "output_type": "stream",
     "text": [
      " item size of a :  2\n",
      " item size of b :  8\n"
     ]
    }
   ],
   "source": [
    "# get the size\n",
    "print(\" item size of a : \",a.itemsize)\n",
    "print(\" item size of b : \",b.itemsize)"
   ]
  },
  {
   "cell_type": "code",
   "execution_count": 9,
   "id": "efd68c3a-ae84-43dd-8d6d-a482df4a02ca",
   "metadata": {},
   "outputs": [
    {
     "name": "stdout",
     "output_type": "stream",
     "text": [
      " total size of a :  6\n",
      " total size of b :  48\n"
     ]
    }
   ],
   "source": [
    "# get the total size\n",
    "print(\" total size of a : \", a.itemsize * a.size) \n",
    "print(\" total size of b : \", b.nbytes) # same as b.itemsize * b.size"
   ]
  },
  {
   "cell_type": "markdown",
   "id": "bf2ecd09-b78e-4afa-ab26-f40990ac9e79",
   "metadata": {},
   "source": [
    "# Accessing/Changing specific elements, rows, columns, etc."
   ]
  },
  {
   "cell_type": "code",
   "execution_count": 4,
   "id": "70f4d459-92d5-4023-af58-d7147054b659",
   "metadata": {},
   "outputs": [
    {
     "name": "stdout",
     "output_type": "stream",
     "text": [
      "[[ 1  2  3  4  5  6  7]\n",
      " [ 8  9 10 11 12 13 14]]\n"
     ]
    }
   ],
   "source": [
    "c = np.array([[1, 2, 3, 4, 5, 6, 7],[8, 9, 10, 11, 12, 13, 14]])   # 2 by 7 \n",
    "print(c)"
   ]
  },
  {
   "cell_type": "code",
   "execution_count": 5,
   "id": "69d62cba-54a1-4648-ab77-6093c12a34ee",
   "metadata": {},
   "outputs": [
    {
     "data": {
      "text/plain": [
       "(2, 7)"
      ]
     },
     "execution_count": 5,
     "metadata": {},
     "output_type": "execute_result"
    }
   ],
   "source": [
    "c.shape"
   ]
  },
  {
   "cell_type": "code",
   "execution_count": 6,
   "id": "f6ef7a6b-5116-4b5a-9ffe-1566452f117c",
   "metadata": {},
   "outputs": [
    {
     "name": "stdout",
     "output_type": "stream",
     "text": [
      "13\n",
      "13\n"
     ]
    }
   ],
   "source": [
    "# get a specific element [row, column]\n",
    "print(c[1, 5])\n",
    "print(c[1 ,-2])"
   ]
  },
  {
   "cell_type": "code",
   "execution_count": 7,
   "id": "156a102f-9a17-47cc-847d-3fd44bef7827",
   "metadata": {},
   "outputs": [
    {
     "data": {
      "text/plain": [
       "array([1, 2, 3, 4, 5, 6, 7])"
      ]
     },
     "execution_count": 7,
     "metadata": {},
     "output_type": "execute_result"
    }
   ],
   "source": [
    "# get a specific row  \n",
    "c[0, :] # gets a specific single row"
   ]
  },
  {
   "cell_type": "code",
   "execution_count": 8,
   "id": "31cfe063-b05b-43f7-b4e8-0c32dd758c2a",
   "metadata": {},
   "outputs": [
    {
     "data": {
      "text/plain": [
       "array([2, 9])"
      ]
     },
     "execution_count": 8,
     "metadata": {},
     "output_type": "execute_result"
    }
   ],
   "source": [
    "# get a specific column \n",
    "c[: ,1]  #second element from each row"
   ]
  },
  {
   "cell_type": "code",
   "execution_count": 9,
   "id": "0de0f879-82e1-46ec-ad27-c60f548369be",
   "metadata": {},
   "outputs": [
    {
     "data": {
      "text/plain": [
       "array([2, 4, 6])"
      ]
     },
     "execution_count": 9,
     "metadata": {},
     "output_type": "execute_result"
    }
   ],
   "source": [
    "#getting a little more fancy [startindex:endindex:stepsize]\n",
    "c[0, 1:6:2] # goes to first row, gives all second element from index 1 till index 6"
   ]
  },
  {
   "cell_type": "code",
   "execution_count": 33,
   "id": "7d737373-bc0f-4b0c-9fac-c78d0db6d36b",
   "metadata": {
    "slideshow": {
     "slide_type": "slide"
    },
    "tags": []
   },
   "outputs": [
    {
     "data": {
      "text/plain": [
       "array([2, 4, 6])"
      ]
     },
     "execution_count": 33,
     "metadata": {},
     "output_type": "execute_result"
    }
   ],
   "source": [
    "c[0, 1:-1: 2] #just does the same thing but backwards (no elements)"
   ]
  },
  {
   "cell_type": "code",
   "execution_count": 35,
   "id": "45a1669d-9bc4-4fef-a175-0b4716b4d42d",
   "metadata": {},
   "outputs": [
    {
     "name": "stdout",
     "output_type": "stream",
     "text": [
      "[[ 1  2  3  4  5  6  7]\n",
      " [ 8  9 10 11 12 20 14]]\n"
     ]
    }
   ],
   "source": [
    "# editing the array row\n",
    "c[1,5] = 20\n",
    "print(c)"
   ]
  },
  {
   "cell_type": "code",
   "execution_count": 10,
   "id": "ea4113ab-bd6d-4fb1-bb68-4f08298db776",
   "metadata": {},
   "outputs": [
    {
     "name": "stdout",
     "output_type": "stream",
     "text": [
      "[[ 1  2  5  4  5  6  7]\n",
      " [ 8  9  5 11 12 13 14]] \n",
      "\n",
      "replacing with a sequence : \n",
      " \n",
      "[[ 1  2  1  4  5  6  7]\n",
      " [ 8  9  2 11 12 13 14]]\n"
     ]
    }
   ],
   "source": [
    "# editing the array column (with a single value, and then with a sequence)\n",
    "c[:, 2] = 5\n",
    "print(c, '\\n')\n",
    "\n",
    "print(\"replacing with a sequence : \\n \")\n",
    "c[:, 2] = [1,2]\n",
    "print(c)\n"
   ]
  },
  {
   "cell_type": "markdown",
   "id": "2b984a36-732d-4775-adb0-c86521167030",
   "metadata": {},
   "source": [
    "# A 3d example"
   ]
  },
  {
   "cell_type": "code",
   "execution_count": 6,
   "id": "91ad1e10-381f-4a7c-8215-9773f2312817",
   "metadata": {},
   "outputs": [
    {
     "name": "stdout",
     "output_type": "stream",
     "text": [
      "[[[1 2]\n",
      "  [3 4]]\n",
      "\n",
      " [[5 6]\n",
      "  [7 8]]]\n"
     ]
    }
   ],
   "source": [
    "d = np.array([ [[1,2], [3,4]] , [[5,6], [7,8]] ])  \n",
    "print(d)"
   ]
  },
  {
   "cell_type": "code",
   "execution_count": 50,
   "id": "23a5af0b-e5b9-4d71-85e4-ba5edde9abd2",
   "metadata": {},
   "outputs": [
    {
     "name": "stdout",
     "output_type": "stream",
     "text": [
      "4 \n",
      "\n",
      "[[3 4]\n",
      " [7 8]]\n"
     ]
    }
   ],
   "source": [
    "# get a specific element (work outside in)\n",
    "\n",
    "# trying to get '4'\n",
    "print(d[0,1,1], '\\n')\n",
    "\n",
    "#trying to get 3,4,7,8 (visualize in 3-d then you would get it)\n",
    "print(d[:,1,:])"
   ]
  },
  {
   "cell_type": "code",
   "execution_count": 53,
   "id": "b7b54d63-11ed-4d8f-ab01-8ca845bddfb6",
   "metadata": {},
   "outputs": [
    {
     "name": "stdout",
     "output_type": "stream",
     "text": [
      "[[[ 1  2]\n",
      "  [ 9 16]]\n",
      "\n",
      " [[ 5  6]\n",
      "  [49 64]]]\n"
     ]
    }
   ],
   "source": [
    "# editing a 3d array\n",
    "d[:,1,:] = [ [9,16], [49, 64] ]   # SHOULD WORK FINE IF ITS THE SAME DIMENSION\n",
    "print(d)"
   ]
  },
  {
   "cell_type": "markdown",
   "id": "f2382a1c-97d8-4d6e-935b-c8b0b05edff5",
   "metadata": {},
   "source": [
    " # Initializing different types of arrays"
   ]
  },
  {
   "cell_type": "code",
   "execution_count": 55,
   "id": "a4032a56-08d8-4e8c-9393-ceb72c7e0ae9",
   "metadata": {},
   "outputs": [
    {
     "data": {
      "text/plain": [
       "array([[[0., 0., 0.],\n",
       "        [0., 0., 0.],\n",
       "        [0., 0., 0.]],\n",
       "\n",
       "       [[0., 0., 0.],\n",
       "        [0., 0., 0.],\n",
       "        [0., 0., 0.]]])"
      ]
     },
     "execution_count": 55,
     "metadata": {},
     "output_type": "execute_result"
    }
   ],
   "source": [
    "# All Zeros(0s) matrix\n",
    "np.zeros((2,3,3))"
   ]
  },
  {
   "cell_type": "code",
   "execution_count": 57,
   "id": "9662cb09-d1ef-4ddc-8934-32fe1b2926b3",
   "metadata": {},
   "outputs": [
    {
     "data": {
      "text/plain": [
       "array([[[1, 1],\n",
       "        [1, 1]],\n",
       "\n",
       "       [[1, 1],\n",
       "        [1, 1]],\n",
       "\n",
       "       [[1, 1],\n",
       "        [1, 1]],\n",
       "\n",
       "       [[1, 1],\n",
       "        [1, 1]]], dtype=int32)"
      ]
     },
     "execution_count": 57,
     "metadata": {},
     "output_type": "execute_result"
    }
   ],
   "source": [
    "# ALL ones matrix\n",
    "np.ones((4,2,2), dtype=\"int32\")"
   ]
  },
  {
   "cell_type": "code",
   "execution_count": 58,
   "id": "57b9d104-444f-4a0f-b01e-7396fac6eb62",
   "metadata": {},
   "outputs": [
    {
     "data": {
      "text/plain": [
       "array([[99., 99.],\n",
       "       [99., 99.]], dtype=float32)"
      ]
     },
     "execution_count": 58,
     "metadata": {},
     "output_type": "execute_result"
    }
   ],
   "source": [
    "# Any other number\n",
    "np.full((2,2) , 99, dtype=\"float32\")"
   ]
  },
  {
   "cell_type": "code",
   "execution_count": 7,
   "id": "5e3316f7-642e-4fcc-bf0b-6816f926c09b",
   "metadata": {},
   "outputs": [
    {
     "data": {
      "text/plain": [
       "array([[[7, 7],\n",
       "        [7, 7]],\n",
       "\n",
       "       [[7, 7],\n",
       "        [7, 7]]])"
      ]
     },
     "execution_count": 7,
     "metadata": {},
     "output_type": "execute_result"
    }
   ],
   "source": [
    "# Any other number (full_like)\n",
    "np.full_like(d, 7)"
   ]
  },
  {
   "cell_type": "code",
   "execution_count": 64,
   "id": "fcbf4550-5568-46d1-9be1-7f2ea96873fc",
   "metadata": {},
   "outputs": [
    {
     "data": {
      "text/plain": [
       "array([[[0.13759918, 0.35780618, 0.69207431],\n",
       "        [0.43774035, 0.27330291, 0.70961966],\n",
       "        [0.88527099, 0.51348441, 0.06593438]],\n",
       "\n",
       "       [[0.85970139, 0.84791585, 0.37253478],\n",
       "        [0.95459925, 0.98067151, 0.48016273],\n",
       "        [0.7166262 , 0.62328552, 0.09832234]]])"
      ]
     },
     "execution_count": 64,
     "metadata": {},
     "output_type": "execute_result"
    }
   ],
   "source": [
    "# Ramdom decimal numbers\n",
    "np.random.rand(2,3,3)"
   ]
  },
  {
   "cell_type": "code",
   "execution_count": 66,
   "id": "a84b3d7d-8696-484d-a3e0-0ab880cc4d07",
   "metadata": {},
   "outputs": [
    {
     "data": {
      "text/plain": [
       "array([[[0.92397552, 0.02262184],\n",
       "        [0.60646925, 0.48517749]],\n",
       "\n",
       "       [[0.12221006, 0.40267458],\n",
       "        [0.08959186, 0.36490167]]])"
      ]
     },
     "execution_count": 66,
     "metadata": {},
     "output_type": "execute_result"
    }
   ],
   "source": [
    "np.random.random_sample(d.shape)"
   ]
  },
  {
   "cell_type": "code",
   "execution_count": 75,
   "id": "d3312bc4-d21a-45fb-914a-5df3b3fe8021",
   "metadata": {},
   "outputs": [
    {
     "data": {
      "text/plain": [
       "array([[ 6,  4, -4],\n",
       "       [ 0,  4, -1],\n",
       "       [-3, -4,  6]])"
      ]
     },
     "execution_count": 75,
     "metadata": {},
     "output_type": "execute_result"
    }
   ],
   "source": [
    "# Random Integers \n",
    "np.random.randint(-4, 7, size=(3,3))"
   ]
  },
  {
   "cell_type": "code",
   "execution_count": 76,
   "id": "320d118d-4ea3-4cf2-911a-258790ffa283",
   "metadata": {},
   "outputs": [
    {
     "data": {
      "text/plain": [
       "array([[1., 0., 0.],\n",
       "       [0., 1., 0.],\n",
       "       [0., 0., 1.]])"
      ]
     },
     "execution_count": 76,
     "metadata": {},
     "output_type": "execute_result"
    }
   ],
   "source": [
    "# Identty Matrix  (By nature it will be a square 2D matrix)\n",
    "np.identity(3)"
   ]
  },
  {
   "cell_type": "code",
   "execution_count": 13,
   "id": "e340698b-576c-4d64-8f4e-c5b2de2f2be5",
   "metadata": {},
   "outputs": [
    {
     "name": "stdout",
     "output_type": "stream",
     "text": [
      "[[1 2 3]\n",
      " [1 2 3]\n",
      " [1 2 3]]\n"
     ]
    }
   ],
   "source": [
    "# Repeat an array\n",
    "arr = np.array([[1,2,3]])\n",
    "r1 = np.repeat(arr, 3,axis = 0)   #see the documentation for the entire info on numpy.repeat function\n",
    "print(r1)"
   ]
  },
  {
   "cell_type": "code",
   "execution_count": 12,
   "id": "77489e79-326f-4c30-9a83-19d7ff647daa",
   "metadata": {},
   "outputs": [
    {
     "name": "stdout",
     "output_type": "stream",
     "text": [
      "[[1 1 1 1 1]\n",
      " [1 1 1 1 1]\n",
      " [1 1 1 1 1]\n",
      " [1 1 1 1 1]\n",
      " [1 1 1 1 1]]\n",
      "[[0. 0. 0.]\n",
      " [0. 9. 0.]\n",
      " [0. 0. 0.]]\n",
      "[[1 1 1 1 1]\n",
      " [1 0 0 0 1]\n",
      " [1 0 9 0 1]\n",
      " [1 0 0 0 1]\n",
      " [1 1 1 1 1]]\n"
     ]
    }
   ],
   "source": [
    "# How to create this matrix : \n",
    "# 1 1 1 1 1\n",
    "# 1 0 0 0 1\n",
    "# 1 0 9 0 1\n",
    "# 1 0 0 0 1\n",
    "# 1 1 1 1 1\n",
    "# By following the steps below :\n",
    "\n",
    "# Creating ones matrix\n",
    "output = np.ones((5,5), dtype=\"int32\")\n",
    "print(output, '\\n')\n",
    "\n",
    "# Creating 3x3 0s matrix and making the middle element 9\n",
    "z = np.zeros((3,3))\n",
    "z[1,1] = 9\n",
    "print(z,'\\n')\n",
    "\n",
    "# Finally replacing the middle part of the 1s matrix with z\n",
    "output[1:-1 , 1:-1] = z # from the first element to the last element\n",
    "print(output)"
   ]
  },
  {
   "cell_type": "markdown",
   "id": "33012677-9535-4c3f-8fd9-ef6baf6948c5",
   "metadata": {},
   "source": [
    "##### Be careful while copying arrays"
   ]
  },
  {
   "cell_type": "code",
   "execution_count": 8,
   "id": "2b833240-ca79-4cbb-874a-f37cc0a282c8",
   "metadata": {},
   "outputs": [
    {
     "name": "stdout",
     "output_type": "stream",
     "text": [
      "b :  [100   2   3]\n",
      "a :  [1 2 3]\n"
     ]
    }
   ],
   "source": [
    "a = np.array([1,2,3])   \n",
    "b = a.copy()  \n",
    "b[0] =  100\n",
    "print(\"b : \",b)\n",
    "print(\"a : \",a)"
   ]
  },
  {
   "cell_type": "markdown",
   "id": "6592e59a-85ff-40b9-9189-f2480933ce3e",
   "metadata": {},
   "source": [
    "# Mathematics"
   ]
  },
  {
   "cell_type": "code",
   "execution_count": 10,
   "id": "73b1db44-5f30-43d7-b784-4a4242771ad8",
   "metadata": {},
   "outputs": [
    {
     "data": {
      "text/plain": [
       "array([3, 4, 5])"
      ]
     },
     "execution_count": 10,
     "metadata": {},
     "output_type": "execute_result"
    }
   ],
   "source": [
    "# a = [1,2,3]\n",
    "a + 2  "
   ]
  },
  {
   "cell_type": "code",
   "execution_count": 14,
   "id": "09556ee5-d21f-42c9-a01e-40299b2c2911",
   "metadata": {},
   "outputs": [
    {
     "data": {
      "text/plain": [
       "array([-1,  0,  1])"
      ]
     },
     "execution_count": 14,
     "metadata": {},
     "output_type": "execute_result"
    }
   ],
   "source": [
    "a - 2 "
   ]
  },
  {
   "cell_type": "code",
   "execution_count": 15,
   "id": "7f0130eb-d36e-4511-b8f8-d69fa63e351e",
   "metadata": {},
   "outputs": [
    {
     "data": {
      "text/plain": [
       "array([2, 4, 6])"
      ]
     },
     "execution_count": 15,
     "metadata": {},
     "output_type": "execute_result"
    }
   ],
   "source": [
    "a * 2"
   ]
  },
  {
   "cell_type": "code",
   "execution_count": 16,
   "id": "5cb1b6e5-c23f-4c2f-b279-1e818c577d80",
   "metadata": {},
   "outputs": [
    {
     "data": {
      "text/plain": [
       "array([0.5, 1. , 1.5])"
      ]
     },
     "execution_count": 16,
     "metadata": {},
     "output_type": "execute_result"
    }
   ],
   "source": [
    "a / 2"
   ]
  },
  {
   "cell_type": "code",
   "execution_count": 17,
   "id": "18d815c5-234e-484c-9886-20ccbfe0fb3d",
   "metadata": {},
   "outputs": [
    {
     "name": "stdout",
     "output_type": "stream",
     "text": [
      "[3 4 5]\n"
     ]
    }
   ],
   "source": [
    "a += 2 \n",
    "print(a)"
   ]
  },
  {
   "cell_type": "code",
   "execution_count": 18,
   "id": "95dc28da-9d3f-4a43-876d-d3aab661d413",
   "metadata": {},
   "outputs": [
    {
     "data": {
      "text/plain": [
       "array([ 9, 16, 25])"
      ]
     },
     "execution_count": 18,
     "metadata": {},
     "output_type": "execute_result"
    }
   ],
   "source": [
    "a ** 2"
   ]
  },
  {
   "cell_type": "code",
   "execution_count": 20,
   "id": "066cfa13-d077-461f-b041-89d6a581e8a7",
   "metadata": {},
   "outputs": [
    {
     "data": {
      "text/plain": [
       "array([ 0.14112001, -0.7568025 , -0.95892427])"
      ]
     },
     "execution_count": 20,
     "metadata": {},
     "output_type": "execute_result"
    }
   ],
   "source": [
    "# Take the sin\n",
    "np.sin(a)"
   ]
  },
  {
   "cell_type": "markdown",
   "id": "c1afbe14-e161-4d83-be97-72cb6b474438",
   "metadata": {},
   "source": [
    "# Linear Algebra"
   ]
  },
  {
   "cell_type": "code",
   "execution_count": 23,
   "id": "7f7c015c-fce6-49bc-bf81-13d723ffe64e",
   "metadata": {},
   "outputs": [
    {
     "name": "stdout",
     "output_type": "stream",
     "text": [
      "[[1. 1. 1.]\n",
      " [1. 1. 1.]] \n",
      "\n",
      "[[2 2]\n",
      " [2 2]\n",
      " [2 2]] \n",
      "\n"
     ]
    },
    {
     "data": {
      "text/plain": [
       "array([[6., 6.],\n",
       "       [6., 6.]])"
      ]
     },
     "execution_count": 23,
     "metadata": {},
     "output_type": "execute_result"
    }
   ],
   "source": [
    "a = np.ones((2,3))\n",
    "print(a, '\\n')\n",
    "\n",
    "b = np.full((3,2), 2)\n",
    "print(b,'\\n')\n",
    "\n",
    "# Since a is 2x3 and b is 3x2 .... so array multiplication is possible!\n",
    "np.matmul(a,b)  # Matrix Multiplication method using numpy library function"
   ]
  },
  {
   "cell_type": "code",
   "execution_count": 3,
   "id": "9e678c23-b196-432e-8283-e646fb4adeb5",
   "metadata": {},
   "outputs": [
    {
     "data": {
      "text/plain": [
       "1.0"
      ]
     },
     "execution_count": 3,
     "metadata": {},
     "output_type": "execute_result"
    }
   ],
   "source": [
    "# Find the determinent\n",
    "c = np.identity(3)\n",
    "np.linalg.det(c)        # linear algorithm module of numpy libary"
   ]
  },
  {
   "cell_type": "code",
   "execution_count": null,
   "id": "3163cd6d-739a-4cfe-96af-53f8152f6200",
   "metadata": {},
   "outputs": [],
   "source": []
  }
 ],
 "metadata": {
  "kernelspec": {
   "display_name": "Python 3 (ipykernel)",
   "language": "python",
   "name": "python3"
  },
  "language_info": {
   "codemirror_mode": {
    "name": "ipython",
    "version": 3
   },
   "file_extension": ".py",
   "mimetype": "text/x-python",
   "name": "python",
   "nbconvert_exporter": "python",
   "pygments_lexer": "ipython3",
   "version": "3.10.9"
  }
 },
 "nbformat": 4,
 "nbformat_minor": 5
}
